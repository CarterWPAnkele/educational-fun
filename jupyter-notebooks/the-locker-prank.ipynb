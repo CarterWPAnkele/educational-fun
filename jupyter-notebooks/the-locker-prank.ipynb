{
 "cells": [
  {
   "cell_type": "markdown",
   "metadata": {},
   "source": [
    "# The Locker Prank"
   ]
  },
  {
   "cell_type": "markdown",
   "metadata": {},
   "source": [
    "### Problem Description\n",
    "\n",
    "Via Popular Science,\n",
    "\n",
    "_There are 100 lockers that line the main hallway of Chelm High School. Every night, the school principal makes sure all the lockers are closed so that there will be an orderly start to the next day. One day, 100 mischievous students decide that they will play a prank. The students all meet before school starts and line up. The first student then walks down the hallway, and opens every locker. The next student follows by closing every other locker (starting at the second locker). Student 3 then goes to every third locker (starting with the third) and opens it if it’s closed, and closes it if it’s open. Student 4 follows by opening every fourth locker if it’s closed and closing it if it’s open. This goes on and on until Student 100 finally goes to the hundredth locker. When the principal arrives later in the morning, which lockers does she find open?_\n",
    "\n",
    "Here is the [problem statement](https://scottpdawson.com/the-locker-prank/) (nicely written out on Scott Dawson's blog) and here is the [Popular Science solution](https://www.popularmechanics.com/science/math/a31155135/solution-riddle-locker-prank/)."
   ]
  },
  {
   "cell_type": "markdown",
   "metadata": {},
   "source": [
    "#### Brute Force Approach (using Python!)"
   ]
  },
  {
   "cell_type": "code",
   "execution_count": 1,
   "metadata": {
    "collapsed": true
   },
   "outputs": [],
   "source": [
    "# Import the numpy package, for vector operations and remainder calculations\n",
    "import numpy as np"
   ]
  },
  {
   "cell_type": "code",
   "execution_count": 2,
   "metadata": {},
   "outputs": [
    {
     "name": "stdout",
     "output_type": "stream",
     "text": [
      "(100, 1)\n",
      "4\n"
     ]
    }
   ],
   "source": [
    "track = np.zeros((100,1))\n",
    "print(np.shape(track))\n",
    "print(np.remainder(100,6))"
   ]
  },
  {
   "cell_type": "code",
   "execution_count": 3,
   "metadata": {},
   "outputs": [
    {
     "name": "stdout",
     "output_type": "stream",
     "text": [
      "(100, 1)\n"
     ]
    }
   ],
   "source": [
    "for i in range(1,101):\n",
    "    c = 0 #counts visits\n",
    "    for j in range(1,101):\n",
    "        if np.remainder(i,j) == 0:\n",
    "            c = np.copy(c) + 1 # this counts as a visit, so increase c by 1\n",
    "        else:\n",
    "            c = np.copy(c)\n",
    "        \n",
    "    if np.remainder(c,2) == 0:\n",
    "        track = np.copy(track)\n",
    "    else:\n",
    "        track[i-1] = 1 # open\n",
    "print(np.shape(track))"
   ]
  },
  {
   "cell_type": "code",
   "execution_count": 4,
   "metadata": {
    "scrolled": true
   },
   "outputs": [
    {
     "name": "stdout",
     "output_type": "stream",
     "text": [
      "Locker 1 is open\n",
      "Locker 4 is open\n",
      "Locker 9 is open\n",
      "Locker 16 is open\n",
      "Locker 25 is open\n",
      "Locker 36 is open\n",
      "Locker 49 is open\n",
      "Locker 64 is open\n",
      "Locker 81 is open\n",
      "Locker 100 is open\n"
     ]
    }
   ],
   "source": [
    "for i in range(0,100):\n",
    "    if track[i] == 1:\n",
    "        print('Locker', i+1, 'is open')"
   ]
  },
  {
   "cell_type": "markdown",
   "metadata": {},
   "source": [
    "#### Mathematical Approach"
   ]
  },
  {
   "cell_type": "markdown",
   "metadata": {},
   "source": [
    "* If a locker is visited an even number of times, it has to be shut\n",
    "* We can think about each locker number's list of factors\n",
    "    * Only perfect squares have an odd number of factors\n",
    "        * Why? For instance, consider 9, which has factors 1 and 9 but also just 3\n",
    "            * Even when a factor is \"repeated\" as in $3 \\times 3 =9$, it only counts as 1 factor"
   ]
  }
 ],
 "metadata": {
  "kernelspec": {
   "display_name": "py3",
   "language": "python",
   "name": "py3"
  },
  "language_info": {
   "codemirror_mode": {
    "name": "ipython",
    "version": 3
   },
   "file_extension": ".py",
   "mimetype": "text/x-python",
   "name": "python",
   "nbconvert_exporter": "python",
   "pygments_lexer": "ipython3",
   "version": "3.6.10"
  }
 },
 "nbformat": 4,
 "nbformat_minor": 4
}
