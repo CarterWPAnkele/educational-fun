{
 "cells": [
  {
   "cell_type": "code",
   "execution_count": 1,
   "metadata": {
    "collapsed": true
   },
   "outputs": [],
   "source": [
    "import numpy as np"
   ]
  },
  {
   "cell_type": "code",
   "execution_count": 2,
   "metadata": {},
   "outputs": [
    {
     "name": "stdout",
     "output_type": "stream",
     "text": [
      "(100, 1)\n",
      "4\n"
     ]
    }
   ],
   "source": [
    "track = np.zeros((100,1))\n",
    "print(np.shape(track))\n",
    "print(np.remainder(100,6))"
   ]
  },
  {
   "cell_type": "code",
   "execution_count": 3,
   "metadata": {},
   "outputs": [
    {
     "name": "stdout",
     "output_type": "stream",
     "text": [
      "(100, 1)\n"
     ]
    }
   ],
   "source": [
    "for i in range(1,101):\n",
    "    c = 0\n",
    "    for j in range(1,101):\n",
    "        if np.remainder(i,j) == 0:\n",
    "            c = np.copy(c) + 1\n",
    "        else:\n",
    "            c = np.copy(c)\n",
    "        \n",
    "    if np.remainder(c,2) == 0:\n",
    "        track = np.copy(track)\n",
    "    else:\n",
    "        track[i-1] = 1 # open\n",
    "print(np.shape(track))"
   ]
  },
  {
   "cell_type": "code",
   "execution_count": 4,
   "metadata": {},
   "outputs": [
    {
     "name": "stdout",
     "output_type": "stream",
     "text": [
      "Locker 1 is open\n",
      "Locker 4 is open\n",
      "Locker 9 is open\n",
      "Locker 16 is open\n",
      "Locker 25 is open\n",
      "Locker 36 is open\n",
      "Locker 49 is open\n",
      "Locker 64 is open\n",
      "Locker 81 is open\n",
      "Locker 100 is open\n"
     ]
    }
   ],
   "source": [
    "for i in range(0,100):\n",
    "    if track[i] == 1:\n",
    "        print('Locker', i+1, 'is open')"
   ]
  }
 ],
 "metadata": {
  "kernelspec": {
   "display_name": "py3",
   "language": "python",
   "name": "py3"
  },
  "language_info": {
   "codemirror_mode": {
    "name": "ipython",
    "version": 3
   },
   "file_extension": ".py",
   "mimetype": "text/x-python",
   "name": "python",
   "nbconvert_exporter": "python",
   "pygments_lexer": "ipython3",
   "version": "3.6.10"
  }
 },
 "nbformat": 4,
 "nbformat_minor": 4
}
